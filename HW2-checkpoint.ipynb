{
 "cells": [
  {
   "cell_type": "code",
   "execution_count": 18,
   "id": "b395736b",
   "metadata": {},
   "outputs": [
    {
     "name": "stdout",
     "output_type": "stream",
     "text": [
      "第10次反弹后的高度的多项式表达式为：0.10 米\n",
      "第10次反弹时总运动距离的多项式表达式为：299.80 米\n",
      "第10次反弹时总运动时间的多项式表达式为：94.78 秒\n",
      "第n次反弹后的高度的多项式表达式为：100/2**n 米\n",
      "第n次反弹时总运动距离的多项式表达式为：300 - 200*0.5**n 米\n",
      "第n次反弹时总运动时间的多项式表达式为：94.8683298050514 - 90.3507902905251*0.5**n 秒\n"
     ]
    }
   ],
   "source": [
    "import math\n",
    "import sympy as sp\n",
    "\n",
    "# 定义重力加速度\n",
    "g = 9.8  # 单位: m/s²\n",
    "\n",
    "def calculate_bounce_polynomials(n_sym, initial_height=100):\n",
    "    \"\"\"\n",
    "    计算第n次反弹后的高度、总运动距离和总时间的多项式表达式。\n",
    "    \n",
    "    参数:\n",
    "    n_sym (Symbol): 反弹次数的符号变量\n",
    "    initial_height (float): 初始高度，默认为100米\n",
    "    \n",
    "    return:\n",
    "    height_poly (Expr): 第n次反弹后的高度的多项式表达式\n",
    "    total_distance_poly (Expr): 总运动距离的多项式表达式\n",
    "    total_time_poly (Expr): 总运动时间的多项式表达式\n",
    "    \"\"\"\n",
    "    # 第n次反弹的高度\n",
    "    height_poly = initial_height / (2 ** n_sym)\n",
    "    \n",
    "    # 总距离的符号表达式\n",
    "    # 第一次下落100米，之后每次反弹上升和下降的距离总和为2*(50 + 25 + ... + 100/(2^(n-1)))\n",
    "    total_distance_poly = initial_height + 2 * initial_height * (1 - (1/2)**(n_sym)) / (2 - 1)\n",
    "    \n",
    "    # 总时间的符号表达式\n",
    "    # 第一次下落时间：sqrt(2*100/g)\n",
    "    # 之后每次反弹上升和下降的时间总和为2*sqrt(2*(100/(2^(i)))/g) for i from 1 to n\n",
    "    total_time_poly = sp.sqrt(2 * initial_height / g)\n",
    "    total_time_poly += 2 * sp.sqrt(2 / g) * initial_height * (1 - (1/2)**(n_sym)) / (2 - 1)\n",
    "    \n",
    "    return height_poly, total_distance_poly, total_time_poly\n",
    "\n",
    "# 定义符号变量n\n",
    "n = sp.symbols('n', integer=True)\n",
    "\n",
    "# 计算多项式表达式\n",
    "height_poly, total_distance_poly, total_time_poly = calculate_bounce_polynomials(n)\n",
    "\n",
    "# 计算n=10时的值\n",
    "n_value = 10\n",
    "height_value = height_poly.subs(n, n_value).evalf()\n",
    "total_distance_value = total_distance_poly.subs(n, n_value).evalf()\n",
    "total_time_value = total_time_poly.subs(n, n_value).evalf()\n",
    "\n",
    "# 输出结果\n",
    "print(f\"第{n_value}次反弹后的高度的多项式表达式为：{height_value:.2f} 米\")\n",
    "print(f\"第{n_value}次反弹时总运动距离的多项式表达式为：{total_distance_value:.2f} 米\")\n",
    "print(f\"第{n_value}次反弹时总运动时间的多项式表达式为：{total_time_value:.2f} 秒\")\n",
    "print(f\"第n次反弹后的高度的多项式表达式为：{height_poly} 米\")\n",
    "print(f\"第n次反弹时总运动距离的多项式表达式为：{total_distance_poly} 米\")\n",
    "print(f\"第n次反弹时总运动时间的多项式表达式为：{total_time_poly} 秒\")"
   ]
  },
  {
   "cell_type": "code",
   "execution_count": null,
   "id": "89b5c6f4",
   "metadata": {},
   "outputs": [],
   "source": []
  }
 ],
 "metadata": {
  "kernelspec": {
   "display_name": "Python 3 (ipykernel)",
   "language": "python",
   "name": "python3"
  },
  "language_info": {
   "codemirror_mode": {
    "name": "ipython",
    "version": 3
   },
   "file_extension": ".py",
   "mimetype": "text/x-python",
   "name": "python",
   "nbconvert_exporter": "python",
   "pygments_lexer": "ipython3",
   "version": "3.7.12"
  }
 },
 "nbformat": 4,
 "nbformat_minor": 5
}
